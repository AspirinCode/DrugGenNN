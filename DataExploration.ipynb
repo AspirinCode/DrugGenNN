{
 "cells": [
  {
   "cell_type": "code",
   "execution_count": 38,
   "metadata": {
    "collapsed": true
   },
   "outputs": [],
   "source": [
    "from chembl_webresource_client.new_client import new_client\n",
    "import pandas as pd\n",
    "import numpy as np"
   ]
  },
  {
   "cell_type": "markdown",
   "metadata": {},
   "source": [
    "# Chembl"
   ]
  },
  {
   "cell_type": "markdown",
   "metadata": {},
   "source": [
    "Here we download our dataset"
   ]
  },
  {
   "cell_type": "code",
   "execution_count": 11,
   "metadata": {
    "collapsed": true
   },
   "outputs": [],
   "source": [
    "molecule = new_client.molecule"
   ]
  },
  {
   "cell_type": "code",
   "execution_count": 4,
   "metadata": {},
   "outputs": [
    {
     "data": {
      "text/plain": [
       "{'atc_classifications': [],\n",
       " 'availability_type': '-1',\n",
       " 'biotherapeutic': None,\n",
       " 'black_box_warning': '0',\n",
       " 'chebi_par_id': None,\n",
       " 'chirality': '-1',\n",
       " 'dosed_ingredient': False,\n",
       " 'first_approval': None,\n",
       " 'first_in_class': '-1',\n",
       " 'helm_notation': None,\n",
       " 'indication_class': None,\n",
       " 'inorganic_flag': '-1',\n",
       " 'max_phase': 0,\n",
       " 'molecule_chembl_id': 'CHEMBL7322',\n",
       " 'molecule_hierarchy': {'molecule_chembl_id': 'CHEMBL7322',\n",
       "  'parent_chembl_id': 'CHEMBL7322'},\n",
       " 'molecule_properties': {'acd_logd': '2.28',\n",
       "  'acd_logp': '2.87',\n",
       "  'acd_most_apka': '12.38',\n",
       "  'acd_most_bpka': '7.77',\n",
       "  'alogp': '3.02',\n",
       "  'aromatic_rings': 2,\n",
       "  'full_molformula': 'C20H25NO5',\n",
       "  'full_mwt': '359.42',\n",
       "  'hba': 6,\n",
       "  'hba_lipinski': 6,\n",
       "  'hbd': 2,\n",
       "  'hbd_lipinski': 2,\n",
       "  'heavy_atoms': 26,\n",
       "  'molecular_species': 'NEUTRAL',\n",
       "  'mw_freebase': '359.42',\n",
       "  'mw_monoisotopic': '359.1733',\n",
       "  'num_alerts': 3,\n",
       "  'num_lipinski_ro5_violations': 0,\n",
       "  'num_ro5_violations': 0,\n",
       "  'psa': '77.02',\n",
       "  'qed_weighted': '0.39',\n",
       "  'ro3_pass': 'N',\n",
       "  'rtb': 10},\n",
       " 'molecule_structures': {'canonical_smiles': 'COc1ccc(CCNCC(O)C(=O)Oc2ccccc2C)cc1OC',\n",
       "  'standard_inchi': 'InChI=1S/C20H25NO5/c1-14-6-4-5-7-17(14)26-20(23)16(22)13-21-11-10-15-8-9-18(24-2)19(12-15)25-3/h4-9,12,16,21-22H,10-11,13H2,1-3H3',\n",
       "  'standard_inchi_key': 'QRHJQXLPEOKPSF-UHFFFAOYSA-N'},\n",
       " 'molecule_synonyms': [],\n",
       " 'molecule_type': 'Small molecule',\n",
       " 'natural_product': '-1',\n",
       " 'oral': False,\n",
       " 'parenteral': False,\n",
       " 'polymer_flag': False,\n",
       " 'pref_name': None,\n",
       " 'prodrug': '-1',\n",
       " 'structure_type': 'MOL',\n",
       " 'therapeutic_flag': False,\n",
       " 'topical': False,\n",
       " 'usan_stem': None,\n",
       " 'usan_stem_definition': None,\n",
       " 'usan_substem': None,\n",
       " 'usan_year': None,\n",
       " 'withdrawn_country': None,\n",
       " 'withdrawn_flag': False,\n",
       " 'withdrawn_reason': None,\n",
       " 'withdrawn_year': None}"
      ]
     },
     "execution_count": 4,
     "metadata": {},
     "output_type": "execute_result"
    }
   ],
   "source": [
    "molecule.all()[1500]"
   ]
  },
  {
   "cell_type": "code",
   "execution_count": 5,
   "metadata": {},
   "outputs": [
    {
     "name": "stdout",
     "output_type": "stream",
     "text": [
      "Properties:  {'hba_lipinski': 6, 'psa': '77.02', 'acd_most_apka': '12.38', 'num_alerts': 3, 'aromatic_rings': 2, 'acd_logd': '2.28', 'mw_monoisotopic': '359.1733', 'rtb': 10, 'acd_logp': '2.87', 'heavy_atoms': 26, 'num_lipinski_ro5_violations': 0, 'acd_most_bpka': '7.77', 'num_ro5_violations': 0, 'qed_weighted': '0.39', 'hba': 6, 'hbd_lipinski': 2, 'mw_freebase': '359.42', 'hbd': 2, 'molecular_species': 'NEUTRAL', 'full_molformula': 'C20H25NO5', 'alogp': '3.02', 'full_mwt': '359.42', 'ro3_pass': 'N'}\n",
      "Structure:  {'standard_inchi_key': 'QRHJQXLPEOKPSF-UHFFFAOYSA-N', 'standard_inchi': 'InChI=1S/C20H25NO5/c1-14-6-4-5-7-17(14)26-20(23)16(22)13-21-11-10-15-8-9-18(24-2)19(12-15)25-3/h4-9,12,16,21-22H,10-11,13H2,1-3H3', 'canonical_smiles': 'COc1ccc(CCNCC(O)C(=O)Oc2ccccc2C)cc1OC'}\n"
     ]
    }
   ],
   "source": [
    "print(\"Properties: \", molecule.all()[1500]['molecule_properties'])\n",
    "\n",
    "print(\"Structure: \", molecule.all()[1500]['molecule_structures'])"
   ]
  },
  {
   "cell_type": "code",
   "execution_count": 6,
   "metadata": {
    "collapsed": true
   },
   "outputs": [],
   "source": [
    "columns = list(molecule.all()[0]['molecule_properties'].keys()) + list(molecule.all()[0]['molecule_structures'].keys())"
   ]
  },
  {
   "cell_type": "code",
   "execution_count": 7,
   "metadata": {
    "collapsed": true
   },
   "outputs": [],
   "source": [
    "df = pd.DataFrame(columns=columns)"
   ]
  },
  {
   "cell_type": "code",
   "execution_count": 8,
   "metadata": {
    "collapsed": true
   },
   "outputs": [],
   "source": [
    "num = 500000"
   ]
  },
  {
   "cell_type": "code",
   "execution_count": 14,
   "metadata": {
    "collapsed": true
   },
   "outputs": [],
   "source": [
    "for i, mol in enumerate(molecule.all()[df.shape[0]:]):\n",
    "    \n",
    "    if i == num:\n",
    "        break\n",
    "        \n",
    "    id = mol['molecule_chembl_id']\n",
    "    \n",
    "    struct = mol['molecule_structures']\n",
    "    prop = mol['molecule_properties']\n",
    "    \n",
    "    if not (struct and prop):\n",
    "        continue\n",
    "        \n",
    "    full_info = pd.Series({**struct, **prop})\n",
    "    \n",
    "    df.loc[id] = full_info"
   ]
  },
  {
   "cell_type": "code",
   "execution_count": 15,
   "metadata": {},
   "outputs": [
    {
     "data": {
      "text/plain": [
       "(118330, 23)"
      ]
     },
     "execution_count": 15,
     "metadata": {},
     "output_type": "execute_result"
    }
   ],
   "source": [
    "df.shape"
   ]
  },
  {
   "cell_type": "code",
   "execution_count": 11,
   "metadata": {
    "collapsed": true
   },
   "outputs": [],
   "source": [
    "df = df.drop(['full_molformula', 'standard_inchi_key', 'standard_inchi'], axis=1)"
   ]
  },
  {
   "cell_type": "code",
   "execution_count": 12,
   "metadata": {
    "collapsed": true
   },
   "outputs": [],
   "source": [
    "df.to_csv('chembl.csv')"
   ]
  },
  {
   "cell_type": "markdown",
   "metadata": {},
   "source": [
    "# Explore"
   ]
  },
  {
   "cell_type": "code",
   "execution_count": null,
   "metadata": {
    "collapsed": true
   },
   "outputs": [],
   "source": [
    "df.canonical_smiles.apply(len).describe()"
   ]
  },
  {
   "cell_type": "code",
   "execution_count": null,
   "metadata": {
    "collapsed": true
   },
   "outputs": [],
   "source": [
    "df.canonical_smiles"
   ]
  },
  {
   "cell_type": "markdown",
   "metadata": {},
   "source": [
    "# Get activities"
   ]
  },
  {
   "cell_type": "code",
   "execution_count": null,
   "metadata": {
    "collapsed": true
   },
   "outputs": [],
   "source": [
    "def get_"
   ]
  },
  {
   "cell_type": "code",
   "execution_count": 50,
   "metadata": {
    "collapsed": true
   },
   "outputs": [],
   "source": [
    "from chembl_webresource_client.new_client import new_client\n",
    "target = new_client.target\n",
    "activity = new_client.activity\n",
    "herg = target.search('herg')[0]"
   ]
  },
  {
   "cell_type": "code",
   "execution_count": 21,
   "metadata": {
    "collapsed": true
   },
   "outputs": [],
   "source": [
    "ki = activity.filter(target_chembl_id=herg['target_chembl_id']).filter(standard_type=\"Ki\")"
   ]
  },
  {
   "cell_type": "code",
   "execution_count": 43,
   "metadata": {
    "collapsed": true
   },
   "outputs": [],
   "source": [
    "IC50 = activity.filter(target_chembl_id=herg['target_chembl_id']).filter(standard_type=\"IC50\")"
   ]
  },
  {
   "cell_type": "code",
   "execution_count": 46,
   "metadata": {},
   "outputs": [
    {
     "data": {
      "text/plain": [
       "9859"
      ]
     },
     "execution_count": 46,
     "metadata": {},
     "output_type": "execute_result"
    }
   ],
   "source": [
    "len(IC50)"
   ]
  },
  {
   "cell_type": "code",
   "execution_count": 47,
   "metadata": {},
   "outputs": [
    {
     "data": {
      "text/plain": [
       "2555"
      ]
     },
     "execution_count": 47,
     "metadata": {},
     "output_type": "execute_result"
    }
   ],
   "source": [
    "len(ki)"
   ]
  },
  {
   "cell_type": "code",
   "execution_count": 10,
   "metadata": {},
   "outputs": [
    {
     "data": {
      "text/plain": [
       "{'organism': 'Homo sapiens',\n",
       " 'pref_name': 'Maltase-glucoamylase',\n",
       " 'species_group_flag': False,\n",
       " 'target_chembl_id': 'CHEMBL2074',\n",
       " 'target_components': [{'accession': 'O43451',\n",
       "   'component_description': 'Maltase-glucoamylase, intestinal',\n",
       "   'component_id': 434,\n",
       "   'component_type': 'PROTEIN',\n",
       "   'relationship': 'SINGLE PROTEIN',\n",
       "   'target_component_synonyms': [{'component_synonym': 'MGA ',\n",
       "     'syn_type': 'GENE_SYMBOL'},\n",
       "    {'component_synonym': 'MGAML', 'syn_type': 'GENE_SYMBOL'},\n",
       "    {'component_synonym': 'MGAM', 'syn_type': 'GENE_SYMBOL'},\n",
       "    {'component_synonym': 'Maltase-glucoamylase, intestinal',\n",
       "     'syn_type': 'UNIPROT'},\n",
       "    {'component_synonym': 'Maltase', 'syn_type': 'UNIPROT'},\n",
       "    {'component_synonym': 'Glucoamylase', 'syn_type': 'UNIPROT'},\n",
       "    {'component_synonym': 'Alpha-glucosidase', 'syn_type': 'UNIPROT'},\n",
       "    {'component_synonym': 'Glucan 1,4-alpha-glucosidase',\n",
       "     'syn_type': 'UNIPROT'},\n",
       "    {'component_synonym': '3.2.1.20', 'syn_type': 'EC_NUMBER'},\n",
       "    {'component_synonym': '3.2.1.3', 'syn_type': 'EC_NUMBER'}]}],\n",
       " 'target_type': 'SINGLE PROTEIN',\n",
       " 'tax_id': 9606}"
      ]
     },
     "execution_count": 10,
     "metadata": {},
     "output_type": "execute_result"
    }
   ],
   "source": [
    "target.search('herg')[0]"
   ]
  },
  {
   "cell_type": "code",
   "execution_count": 20,
   "metadata": {},
   "outputs": [
    {
     "data": {
      "text/plain": [
       "{'atc_classifications': [],\n",
       " 'availability_type': '-1',\n",
       " 'biotherapeutic': None,\n",
       " 'black_box_warning': '0',\n",
       " 'chebi_par_id': None,\n",
       " 'chirality': '-1',\n",
       " 'dosed_ingredient': False,\n",
       " 'first_approval': None,\n",
       " 'first_in_class': '-1',\n",
       " 'helm_notation': None,\n",
       " 'indication_class': None,\n",
       " 'inorganic_flag': '-1',\n",
       " 'max_phase': 0,\n",
       " 'molecule_chembl_id': 'CHEMBL296397',\n",
       " 'molecule_hierarchy': {'molecule_chembl_id': 'CHEMBL296397',\n",
       "  'parent_chembl_id': 'CHEMBL296397'},\n",
       " 'molecule_properties': {'acd_logd': '5.6',\n",
       "  'acd_logp': '7.3',\n",
       "  'acd_most_apka': None,\n",
       "  'acd_most_bpka': '9.2',\n",
       "  'alogp': '8.57',\n",
       "  'aromatic_rings': 3,\n",
       "  'full_molformula': 'C34H35F7N2O',\n",
       "  'full_mwt': '620.64',\n",
       "  'hba': 2,\n",
       "  'hba_lipinski': 3,\n",
       "  'hbd': 1,\n",
       "  'hbd_lipinski': 1,\n",
       "  'heavy_atoms': 44,\n",
       "  'molecular_species': 'BASE',\n",
       "  'mw_freebase': '620.64',\n",
       "  'mw_monoisotopic': '620.2638',\n",
       "  'num_alerts': 1,\n",
       "  'num_lipinski_ro5_violations': 1,\n",
       "  'num_ro5_violations': 2,\n",
       "  'psa': '32.34',\n",
       "  'qed_weighted': '0.26',\n",
       "  'ro3_pass': 'N',\n",
       "  'rtb': 8},\n",
       " 'molecule_structures': {'canonical_smiles': 'CC(C(=O)N[C@@]1(CC[C@H](CC1)N2CCC(CC2)c3ccc(F)cc3)c4ccccc4)c5cc(cc(c5)C(F)(F)F)C(F)(F)F',\n",
       "  'standard_inchi': 'InChI=1S/C34H35F7N2O/c1-22(25-19-27(33(36,37)38)21-28(20-25)34(39,40)41)31(44)42-32(26-5-3-2-4-6-26)15-11-30(12-16-32)43-17-13-24(14-18-43)23-7-9-29(35)10-8-23/h2-10,19-22,24,30H,11-18H2,1H3,(H,42,44)/t22?,30-,32-',\n",
       "  'standard_inchi_key': 'LKUBJXGOOGUQGP-MDYYLFQXSA-N'},\n",
       " 'molecule_synonyms': [],\n",
       " 'molecule_type': 'Small molecule',\n",
       " 'natural_product': '-1',\n",
       " 'oral': False,\n",
       " 'parenteral': False,\n",
       " 'polymer_flag': False,\n",
       " 'pref_name': None,\n",
       " 'prodrug': '-1',\n",
       " 'structure_type': 'MOL',\n",
       " 'therapeutic_flag': False,\n",
       " 'topical': False,\n",
       " 'usan_stem': None,\n",
       " 'usan_stem_definition': None,\n",
       " 'usan_substem': None,\n",
       " 'usan_year': None,\n",
       " 'withdrawn_country': None,\n",
       " 'withdrawn_flag': False,\n",
       " 'withdrawn_reason': None,\n",
       " 'withdrawn_year': None}"
      ]
     },
     "execution_count": 20,
     "metadata": {},
     "output_type": "execute_result"
    }
   ],
   "source": [
    "molecule.get('CHEMBL296397')"
   ]
  },
  {
   "cell_type": "code",
   "execution_count": 49,
   "metadata": {},
   "outputs": [
    {
     "data": {
      "text/plain": [
       "{'activity_comment': None,\n",
       " 'activity_id': 224312,\n",
       " 'assay_chembl_id': 'CHEMBL824627',\n",
       " 'assay_description': 'Compound was evaluated for the displacement of labelled MK-499 from the cloned channel expressed in HEK cells (Ikr channel)',\n",
       " 'assay_type': 'B',\n",
       " 'bao_endpoint': 'BAO_0000192',\n",
       " 'bao_format': 'BAO_0000219',\n",
       " 'canonical_smiles': 'CC(C)N1CCN(CC1)[C@@H]2CC[C@](CC2)(NC(=O)C(C)c3cc(cc(c3)C(F)(F)F)C(F)(F)F)c4ccccc4',\n",
       " 'data_validity_comment': None,\n",
       " 'document_chembl_id': 'CHEMBL1135170',\n",
       " 'document_journal': 'Bioorg. Med. Chem. Lett.',\n",
       " 'document_year': 2002,\n",
       " 'ligand_efficiency': {'bei': '10.39',\n",
       "  'le': '0.2',\n",
       "  'lle': '-0.92',\n",
       "  'sei': '16.64'},\n",
       " 'molecule_chembl_id': 'CHEMBL296979',\n",
       " 'pchembl_value': '5.92',\n",
       " 'potential_duplicate': False,\n",
       " 'published_relation': '=',\n",
       " 'published_type': 'Ki',\n",
       " 'published_units': 'nM',\n",
       " 'published_value': '1200',\n",
       " 'qudt_units': 'http://www.openphacts.org/units/Nanomolar',\n",
       " 'record_id': 82904,\n",
       " 'src_id': 1,\n",
       " 'standard_flag': True,\n",
       " 'standard_relation': '=',\n",
       " 'standard_type': 'Ki',\n",
       " 'standard_units': 'nM',\n",
       " 'standard_value': '1200',\n",
       " 'target_chembl_id': 'CHEMBL240',\n",
       " 'target_organism': 'Homo sapiens',\n",
       " 'target_pref_name': 'HERG',\n",
       " 'target_tax_id': '9606',\n",
       " 'uo_units': 'UO_0000065'}"
      ]
     },
     "execution_count": 49,
     "metadata": {},
     "output_type": "execute_result"
    }
   ],
   "source": [
    "ki[0]"
   ]
  },
  {
   "cell_type": "markdown",
   "metadata": {},
   "source": [
    "IC50[0]"
   ]
  },
  {
   "cell_type": "code",
   "execution_count": 52,
   "metadata": {},
   "outputs": [],
   "source": [
    "target_chembl = 'CHEMBL2074'\n",
    "\n",
    "target = new_client.target\n",
    "activity = new_client.activity\n",
    "\n",
    "activity = activity.filter(target_chembl_id=target_chembl).filter(standard_type=\"IC50\")"
   ]
  },
  {
   "cell_type": "code",
   "execution_count": 53,
   "metadata": {},
   "outputs": [
    {
     "data": {
      "text/plain": [
       "{'activity_comment': None,\n",
       " 'activity_id': 306817,\n",
       " 'assay_chembl_id': 'CHEMBL649260',\n",
       " 'assay_description': 'Inhibitory activity measured against alpha-glucosidase of rice by colorimetric assay using the D-glucose oxidase-peroxidase method',\n",
       " 'assay_type': 'B',\n",
       " 'bao_endpoint': 'BAO_0000190',\n",
       " 'bao_format': 'BAO_0000357',\n",
       " 'canonical_smiles': 'OC[C@H]1N[C@H](CO)[C@@H](O)C(O)[C@@H]1O',\n",
       " 'data_validity_comment': 'Values for this activity type are unusually large/small, so may not be accurate',\n",
       " 'document_chembl_id': 'CHEMBL1131015',\n",
       " 'document_journal': 'J. Med. Chem.',\n",
       " 'document_year': 1998,\n",
       " 'ligand_efficiency': None,\n",
       " 'molecule_chembl_id': 'CHEMBL2114210',\n",
       " 'pchembl_value': None,\n",
       " 'potential_duplicate': False,\n",
       " 'published_relation': '=',\n",
       " 'published_type': 'IC50',\n",
       " 'published_units': 'uM',\n",
       " 'published_value': '110',\n",
       " 'qudt_units': 'http://www.openphacts.org/units/Nanomolar',\n",
       " 'record_id': 155749,\n",
       " 'src_id': 1,\n",
       " 'standard_flag': True,\n",
       " 'standard_relation': '=',\n",
       " 'standard_type': 'IC50',\n",
       " 'standard_units': 'nM',\n",
       " 'standard_value': '110000',\n",
       " 'target_chembl_id': 'CHEMBL2074',\n",
       " 'target_organism': 'Homo sapiens',\n",
       " 'target_pref_name': 'Maltase-glucoamylase',\n",
       " 'target_tax_id': '9606',\n",
       " 'uo_units': 'UO_0000065'}"
      ]
     },
     "execution_count": 53,
     "metadata": {},
     "output_type": "execute_result"
    }
   ],
   "source": [
    "activity[0]"
   ]
  }
 ],
 "metadata": {
  "kernelspec": {
   "display_name": "Python [conda root]",
   "language": "python",
   "name": "conda-root-py"
  },
  "language_info": {
   "codemirror_mode": {
    "name": "ipython",
    "version": 3
   },
   "file_extension": ".py",
   "mimetype": "text/x-python",
   "name": "python",
   "nbconvert_exporter": "python",
   "pygments_lexer": "ipython3",
   "version": "3.5.3"
  }
 },
 "nbformat": 4,
 "nbformat_minor": 2
}
