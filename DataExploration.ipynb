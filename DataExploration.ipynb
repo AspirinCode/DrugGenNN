{
 "cells": [
  {
   "cell_type": "code",
   "execution_count": 248,
   "metadata": {
    "collapsed": true
   },
   "outputs": [],
   "source": [
    "from chembl_webresource_client.new_client import new_client\n",
    "import pandas as pd\n",
    "import numpy as np\n",
    "from tqdm import tqdm_notebook\n",
    "%matplotlib inline"
   ]
  },
  {
   "cell_type": "markdown",
   "metadata": {},
   "source": [
    "# Chembl"
   ]
  },
  {
   "cell_type": "markdown",
   "metadata": {},
   "source": [
    "Here we download our dataset"
   ]
  },
  {
   "cell_type": "code",
   "execution_count": 8,
   "metadata": {},
   "outputs": [
    {
     "name": "stderr",
     "output_type": "stream",
     "text": [
      "/data/home/viktor_petukhov/local/anaconda3/lib/python3.5/site-packages/IPython/core/interactiveshell.py:2717: DtypeWarning: Columns (0,1) have mixed types. Specify dtype option on import or set low_memory=False.\n",
      "  interactivity=interactivity, compiler=compiler, result=result)\n"
     ]
    }
   ],
   "source": [
    "df = pd.read_csv('chembl.csv')"
   ]
  },
  {
   "cell_type": "code",
   "execution_count": 2,
   "metadata": {
    "collapsed": true
   },
   "outputs": [],
   "source": [
    "molecule = new_client.molecule"
   ]
  },
  {
   "cell_type": "code",
   "execution_count": 4,
   "metadata": {
    "scrolled": true
   },
   "outputs": [
    {
     "data": {
      "text/plain": [
       "{'atc_classifications': [],\n",
       " 'availability_type': '-1',\n",
       " 'biotherapeutic': None,\n",
       " 'black_box_warning': '0',\n",
       " 'chebi_par_id': None,\n",
       " 'chirality': '-1',\n",
       " 'dosed_ingredient': False,\n",
       " 'first_approval': None,\n",
       " 'first_in_class': '-1',\n",
       " 'helm_notation': None,\n",
       " 'indication_class': None,\n",
       " 'inorganic_flag': '-1',\n",
       " 'max_phase': 0,\n",
       " 'molecule_chembl_id': 'CHEMBL7322',\n",
       " 'molecule_hierarchy': {'molecule_chembl_id': 'CHEMBL7322',\n",
       "  'parent_chembl_id': 'CHEMBL7322'},\n",
       " 'molecule_properties': {'acd_logd': '2.28',\n",
       "  'acd_logp': '2.87',\n",
       "  'acd_most_apka': '12.38',\n",
       "  'acd_most_bpka': '7.77',\n",
       "  'alogp': '3.02',\n",
       "  'aromatic_rings': 2,\n",
       "  'full_molformula': 'C20H25NO5',\n",
       "  'full_mwt': '359.42',\n",
       "  'hba': 6,\n",
       "  'hba_lipinski': 6,\n",
       "  'hbd': 2,\n",
       "  'hbd_lipinski': 2,\n",
       "  'heavy_atoms': 26,\n",
       "  'molecular_species': 'NEUTRAL',\n",
       "  'mw_freebase': '359.42',\n",
       "  'mw_monoisotopic': '359.1733',\n",
       "  'num_alerts': 3,\n",
       "  'num_lipinski_ro5_violations': 0,\n",
       "  'num_ro5_violations': 0,\n",
       "  'psa': '77.02',\n",
       "  'qed_weighted': '0.39',\n",
       "  'ro3_pass': 'N',\n",
       "  'rtb': 10},\n",
       " 'molecule_structures': {'canonical_smiles': 'COc1ccc(CCNCC(O)C(=O)Oc2ccccc2C)cc1OC',\n",
       "  'standard_inchi': 'InChI=1S/C20H25NO5/c1-14-6-4-5-7-17(14)26-20(23)16(22)13-21-11-10-15-8-9-18(24-2)19(12-15)25-3/h4-9,12,16,21-22H,10-11,13H2,1-3H3',\n",
       "  'standard_inchi_key': 'QRHJQXLPEOKPSF-UHFFFAOYSA-N'},\n",
       " 'molecule_synonyms': [],\n",
       " 'molecule_type': 'Small molecule',\n",
       " 'natural_product': '-1',\n",
       " 'oral': False,\n",
       " 'parenteral': False,\n",
       " 'polymer_flag': False,\n",
       " 'pref_name': None,\n",
       " 'prodrug': '-1',\n",
       " 'structure_type': 'MOL',\n",
       " 'therapeutic_flag': False,\n",
       " 'topical': False,\n",
       " 'usan_stem': None,\n",
       " 'usan_stem_definition': None,\n",
       " 'usan_substem': None,\n",
       " 'usan_year': None,\n",
       " 'withdrawn_country': None,\n",
       " 'withdrawn_flag': False,\n",
       " 'withdrawn_reason': None,\n",
       " 'withdrawn_year': None}"
      ]
     },
     "execution_count": 4,
     "metadata": {},
     "output_type": "execute_result"
    }
   ],
   "source": [
    "molecule.all()[1500]"
   ]
  },
  {
   "cell_type": "code",
   "execution_count": 5,
   "metadata": {},
   "outputs": [
    {
     "name": "stdout",
     "output_type": "stream",
     "text": [
      "Properties:  {'hba_lipinski': 6, 'psa': '77.02', 'acd_most_apka': '12.38', 'num_alerts': 3, 'aromatic_rings': 2, 'acd_logd': '2.28', 'mw_monoisotopic': '359.1733', 'rtb': 10, 'acd_logp': '2.87', 'heavy_atoms': 26, 'num_lipinski_ro5_violations': 0, 'acd_most_bpka': '7.77', 'num_ro5_violations': 0, 'qed_weighted': '0.39', 'hba': 6, 'hbd_lipinski': 2, 'mw_freebase': '359.42', 'hbd': 2, 'molecular_species': 'NEUTRAL', 'full_molformula': 'C20H25NO5', 'alogp': '3.02', 'full_mwt': '359.42', 'ro3_pass': 'N'}\n",
      "Structure:  {'standard_inchi_key': 'QRHJQXLPEOKPSF-UHFFFAOYSA-N', 'standard_inchi': 'InChI=1S/C20H25NO5/c1-14-6-4-5-7-17(14)26-20(23)16(22)13-21-11-10-15-8-9-18(24-2)19(12-15)25-3/h4-9,12,16,21-22H,10-11,13H2,1-3H3', 'canonical_smiles': 'COc1ccc(CCNCC(O)C(=O)Oc2ccccc2C)cc1OC'}\n"
     ]
    }
   ],
   "source": [
    "print(\"Properties: \", molecule.all()[1500]['molecule_properties'])\n",
    "\n",
    "print(\"Structure: \", molecule.all()[1500]['molecule_structures'])"
   ]
  },
  {
   "cell_type": "code",
   "execution_count": 3,
   "metadata": {
    "collapsed": true
   },
   "outputs": [],
   "source": [
    "columns = list(molecule.all()[0]['molecule_properties'].keys()) + list(molecule.all()[0]['molecule_structures'].keys())"
   ]
  },
  {
   "cell_type": "code",
   "execution_count": 4,
   "metadata": {
    "collapsed": true
   },
   "outputs": [],
   "source": [
    "df = pd.DataFrame(columns=columns)"
   ]
  },
  {
   "cell_type": "code",
   "execution_count": null,
   "metadata": {
    "collapsed": true
   },
   "outputs": [],
   "source": [
    "/data/home/viktor_petukhov/libs/mgltools_source_1.5.6/MGLPACKS/AutoDockTools-1.5.6/AutoDockTools/Utilities24\n"
   ]
  },
  {
   "cell_type": "code",
   "execution_count": null,
   "metadata": {},
   "outputs": [
    {
     "data": {
      "application/vnd.jupyter.widget-view+json": {
       "model_id": "6b9f9cf508f741239b83a1bcbcaf9f58"
      }
     },
     "metadata": {},
     "output_type": "display_data"
    },
    {
     "data": {
      "application/vnd.jupyter.widget-view+json": {
       "model_id": "fc0d22257ffc4d50b2677d21d714c763"
      }
     },
     "metadata": {},
     "output_type": "display_data"
    },
    {
     "data": {
      "application/vnd.jupyter.widget-view+json": {
       "model_id": "e4efc5f980504d539a83257901e55892"
      }
     },
     "metadata": {},
     "output_type": "display_data"
    },
    {
     "name": "stderr",
     "output_type": "stream",
     "text": [
      "Exception in thread Thread-4:\n",
      "Traceback (most recent call last):\n",
      "  File \"/data/home/viktor_petukhov/local/anaconda3/lib/python3.5/threading.py\", line 914, in _bootstrap_inner\n",
      "    self.run()\n",
      "  File \"/data/home/viktor_petukhov/local/anaconda3/lib/python3.5/site-packages/tqdm/_tqdm.py\", line 147, in run\n",
      "    if instance.miniters > 1 and \\\n",
      "AttributeError: 'tqdm_notebook' object has no attribute 'miniters'\n",
      "\n"
     ]
    },
    {
     "data": {
      "application/vnd.jupyter.widget-view+json": {
       "model_id": "807280074e09406e9cf5de90ce634c55"
      }
     },
     "metadata": {},
     "output_type": "display_data"
    },
    {
     "data": {
      "application/vnd.jupyter.widget-view+json": {
       "model_id": "7b6225f966154799904c175845c9d2ec"
      }
     },
     "metadata": {},
     "output_type": "display_data"
    },
    {
     "data": {
      "application/vnd.jupyter.widget-view+json": {
       "model_id": "498c5a5d15a3494db12fd05453fea124"
      }
     },
     "metadata": {},
     "output_type": "display_data"
    },
    {
     "data": {
      "application/vnd.jupyter.widget-view+json": {
       "model_id": "72e80920e3364b4593ddf5cdb3d8c100"
      }
     },
     "metadata": {},
     "output_type": "display_data"
    },
    {
     "data": {
      "application/vnd.jupyter.widget-view+json": {
       "model_id": "049e976acc5146cbb181e27390e22fff"
      }
     },
     "metadata": {},
     "output_type": "display_data"
    },
    {
     "data": {
      "application/vnd.jupyter.widget-view+json": {
       "model_id": "55aecbb896f3458184648a4160b1f020"
      }
     },
     "metadata": {},
     "output_type": "display_data"
    },
    {
     "data": {
      "application/vnd.jupyter.widget-view+json": {
       "model_id": "c9ddf81bf9984e19932a141fa58b2686"
      }
     },
     "metadata": {},
     "output_type": "display_data"
    },
    {
     "data": {
      "application/vnd.jupyter.widget-view+json": {
       "model_id": "9c9f2df7ccdc4b23a6404c981fadfe33"
      }
     },
     "metadata": {},
     "output_type": "display_data"
    },
    {
     "data": {
      "application/vnd.jupyter.widget-view+json": {
       "model_id": "34065410ebc7446f89f4cc5f612d7fb9"
      }
     },
     "metadata": {},
     "output_type": "display_data"
    },
    {
     "data": {
      "application/vnd.jupyter.widget-view+json": {
       "model_id": "333dccbe9ab7444e9d001c48d3a565ff"
      }
     },
     "metadata": {},
     "output_type": "display_data"
    },
    {
     "data": {
      "application/vnd.jupyter.widget-view+json": {
       "model_id": "bc57879dd52e4544a625341f52172b29"
      }
     },
     "metadata": {},
     "output_type": "display_data"
    },
    {
     "data": {
      "application/vnd.jupyter.widget-view+json": {
       "model_id": "cf78a653eb1341aaac2400800cfdfbb6"
      }
     },
     "metadata": {},
     "output_type": "display_data"
    },
    {
     "data": {
      "application/vnd.jupyter.widget-view+json": {
       "model_id": "cdc40431356247df9058872a2b245129"
      }
     },
     "metadata": {},
     "output_type": "display_data"
    },
    {
     "data": {
      "application/vnd.jupyter.widget-view+json": {
       "model_id": "b22b3fe901164d45834ea9a9a017f1eb"
      }
     },
     "metadata": {},
     "output_type": "display_data"
    },
    {
     "data": {
      "application/vnd.jupyter.widget-view+json": {
       "model_id": "bf491b01824842f8b58f0b2df0559002"
      }
     },
     "metadata": {},
     "output_type": "display_data"
    },
    {
     "data": {
      "application/vnd.jupyter.widget-view+json": {
       "model_id": "2be8b20093af4ab7821c3bfc716d29cc"
      }
     },
     "metadata": {},
     "output_type": "display_data"
    },
    {
     "data": {
      "application/vnd.jupyter.widget-view+json": {
       "model_id": "a6bb50ab028b468a817434e70c473cbd"
      }
     },
     "metadata": {},
     "output_type": "display_data"
    },
    {
     "data": {
      "application/vnd.jupyter.widget-view+json": {
       "model_id": "68125624298c40bdafc96383ee6d9d6a"
      }
     },
     "metadata": {},
     "output_type": "display_data"
    },
    {
     "data": {
      "application/vnd.jupyter.widget-view+json": {
       "model_id": "7adf02ab979343a39e550d3412e299c7"
      }
     },
     "metadata": {},
     "output_type": "display_data"
    },
    {
     "data": {
      "application/vnd.jupyter.widget-view+json": {
       "model_id": "b6bd285f722f45e98c824738c884ffe9"
      }
     },
     "metadata": {},
     "output_type": "display_data"
    },
    {
     "data": {
      "application/vnd.jupyter.widget-view+json": {
       "model_id": "105c5be761a84399ad9481feb99e8e07"
      }
     },
     "metadata": {},
     "output_type": "display_data"
    },
    {
     "data": {
      "application/vnd.jupyter.widget-view+json": {
       "model_id": "e6990a22e4d2449883aec37827e8db6a"
      }
     },
     "metadata": {},
     "output_type": "display_data"
    },
    {
     "data": {
      "application/vnd.jupyter.widget-view+json": {
       "model_id": "4c0af8fefb604c408d4bd27f4ce8ab95"
      }
     },
     "metadata": {},
     "output_type": "display_data"
    },
    {
     "data": {
      "application/vnd.jupyter.widget-view+json": {
       "model_id": "4d2ad80ba95a47b48d5c903b9c034dc2"
      }
     },
     "metadata": {},
     "output_type": "display_data"
    },
    {
     "data": {
      "application/vnd.jupyter.widget-view+json": {
       "model_id": "302213b3987b462e82c2b51d35f95ac0"
      }
     },
     "metadata": {},
     "output_type": "display_data"
    },
    {
     "data": {
      "application/vnd.jupyter.widget-view+json": {
       "model_id": "0daf0d290588468d9ad2aded4445ea06"
      }
     },
     "metadata": {},
     "output_type": "display_data"
    },
    {
     "data": {
      "application/vnd.jupyter.widget-view+json": {
       "model_id": "bc5cbc9f05804a2591addf46cd9ebd8f"
      }
     },
     "metadata": {},
     "output_type": "display_data"
    },
    {
     "data": {
      "application/vnd.jupyter.widget-view+json": {
       "model_id": "8f3a9c1a3d464527be3b372c7d072916"
      }
     },
     "metadata": {},
     "output_type": "display_data"
    },
    {
     "data": {
      "application/vnd.jupyter.widget-view+json": {
       "model_id": "ca3d1f49d0ab4620afe03f717d35b23f"
      }
     },
     "metadata": {},
     "output_type": "display_data"
    }
   ],
   "source": [
    "while True:\n",
    "    for mol in tqdm_notebook(molecule.all()[df.shape[0]:]):\n",
    "\n",
    "\n",
    "        id = mol['molecule_chembl_id']\n",
    "\n",
    "        struct = mol['molecule_structures']\n",
    "        prop = mol['molecule_properties']\n",
    "\n",
    "        if not (struct and prop):\n",
    "            continue\n",
    "\n",
    "        full_info = pd.Series({**struct, **prop})\n",
    "\n",
    "        df.loc[id] = full_info"
   ]
  },
  {
   "cell_type": "code",
   "execution_count": 11,
   "metadata": {},
   "outputs": [
    {
     "data": {
      "text/plain": [
       "(332700, 28)"
      ]
     },
     "execution_count": 11,
     "metadata": {},
     "output_type": "execute_result"
    }
   ],
   "source": [
    "df.shape"
   ]
  },
  {
   "cell_type": "code",
   "execution_count": 12,
   "metadata": {
    "collapsed": true
   },
   "outputs": [],
   "source": [
    "df = df.drop(['full_molformula', 'standard_inchi_key', 'standard_inchi'], axis=1)"
   ]
  },
  {
   "cell_type": "code",
   "execution_count": 13,
   "metadata": {
    "collapsed": true
   },
   "outputs": [],
   "source": [
    "df.to_csv('chembl.csv')"
   ]
  },
  {
   "cell_type": "markdown",
   "metadata": {},
   "source": [
    "# Explore"
   ]
  },
  {
   "cell_type": "code",
   "execution_count": null,
   "metadata": {
    "collapsed": true
   },
   "outputs": [],
   "source": [
    "df.canonical_smiles.apply(len).describe()"
   ]
  },
  {
   "cell_type": "code",
   "execution_count": null,
   "metadata": {
    "collapsed": true
   },
   "outputs": [],
   "source": [
    "df.canonical_smiles"
   ]
  },
  {
   "cell_type": "markdown",
   "metadata": {},
   "source": [
    "# Get activities"
   ]
  },
  {
   "cell_type": "code",
   "execution_count": 50,
   "metadata": {
    "collapsed": true
   },
   "outputs": [],
   "source": [
    "from chembl_webresource_client.new_client import new_client\n",
    "target = new_client.target\n",
    "activity = new_client.activity\n",
    "herg = target.search('herg')[0]"
   ]
  },
  {
   "cell_type": "code",
   "execution_count": 21,
   "metadata": {
    "collapsed": true
   },
   "outputs": [],
   "source": [
    "ki = activity.filter(target_chembl_id=herg['target_chembl_id']).filter(standard_type=\"Ki\")"
   ]
  },
  {
   "cell_type": "code",
   "execution_count": 43,
   "metadata": {
    "collapsed": true
   },
   "outputs": [],
   "source": [
    "IC50 = activity.filter(target_chembl_id=herg['target_chembl_id']).filter(standard_type=\"IC50\")"
   ]
  },
  {
   "cell_type": "code",
   "execution_count": 46,
   "metadata": {},
   "outputs": [
    {
     "data": {
      "text/plain": [
       "9859"
      ]
     },
     "execution_count": 46,
     "metadata": {},
     "output_type": "execute_result"
    }
   ],
   "source": [
    "len(IC50)"
   ]
  },
  {
   "cell_type": "code",
   "execution_count": 47,
   "metadata": {},
   "outputs": [
    {
     "data": {
      "text/plain": [
       "2555"
      ]
     },
     "execution_count": 47,
     "metadata": {},
     "output_type": "execute_result"
    }
   ],
   "source": [
    "len(ki)"
   ]
  },
  {
   "cell_type": "code",
   "execution_count": 10,
   "metadata": {},
   "outputs": [
    {
     "data": {
      "text/plain": [
       "{'organism': 'Homo sapiens',\n",
       " 'pref_name': 'Maltase-glucoamylase',\n",
       " 'species_group_flag': False,\n",
       " 'target_chembl_id': 'CHEMBL2074',\n",
       " 'target_components': [{'accession': 'O43451',\n",
       "   'component_description': 'Maltase-glucoamylase, intestinal',\n",
       "   'component_id': 434,\n",
       "   'component_type': 'PROTEIN',\n",
       "   'relationship': 'SINGLE PROTEIN',\n",
       "   'target_component_synonyms': [{'component_synonym': 'MGA ',\n",
       "     'syn_type': 'GENE_SYMBOL'},\n",
       "    {'component_synonym': 'MGAML', 'syn_type': 'GENE_SYMBOL'},\n",
       "    {'component_synonym': 'MGAM', 'syn_type': 'GENE_SYMBOL'},\n",
       "    {'component_synonym': 'Maltase-glucoamylase, intestinal',\n",
       "     'syn_type': 'UNIPROT'},\n",
       "    {'component_synonym': 'Maltase', 'syn_type': 'UNIPROT'},\n",
       "    {'component_synonym': 'Glucoamylase', 'syn_type': 'UNIPROT'},\n",
       "    {'component_synonym': 'Alpha-glucosidase', 'syn_type': 'UNIPROT'},\n",
       "    {'component_synonym': 'Glucan 1,4-alpha-glucosidase',\n",
       "     'syn_type': 'UNIPROT'},\n",
       "    {'component_synonym': '3.2.1.20', 'syn_type': 'EC_NUMBER'},\n",
       "    {'component_synonym': '3.2.1.3', 'syn_type': 'EC_NUMBER'}]}],\n",
       " 'target_type': 'SINGLE PROTEIN',\n",
       " 'tax_id': 9606}"
      ]
     },
     "execution_count": 10,
     "metadata": {},
     "output_type": "execute_result"
    }
   ],
   "source": [
    "target.search('herg')[0]"
   ]
  },
  {
   "cell_type": "code",
   "execution_count": 20,
   "metadata": {},
   "outputs": [
    {
     "data": {
      "text/plain": [
       "{'atc_classifications': [],\n",
       " 'availability_type': '-1',\n",
       " 'biotherapeutic': None,\n",
       " 'black_box_warning': '0',\n",
       " 'chebi_par_id': None,\n",
       " 'chirality': '-1',\n",
       " 'dosed_ingredient': False,\n",
       " 'first_approval': None,\n",
       " 'first_in_class': '-1',\n",
       " 'helm_notation': None,\n",
       " 'indication_class': None,\n",
       " 'inorganic_flag': '-1',\n",
       " 'max_phase': 0,\n",
       " 'molecule_chembl_id': 'CHEMBL296397',\n",
       " 'molecule_hierarchy': {'molecule_chembl_id': 'CHEMBL296397',\n",
       "  'parent_chembl_id': 'CHEMBL296397'},\n",
       " 'molecule_properties': {'acd_logd': '5.6',\n",
       "  'acd_logp': '7.3',\n",
       "  'acd_most_apka': None,\n",
       "  'acd_most_bpka': '9.2',\n",
       "  'alogp': '8.57',\n",
       "  'aromatic_rings': 3,\n",
       "  'full_molformula': 'C34H35F7N2O',\n",
       "  'full_mwt': '620.64',\n",
       "  'hba': 2,\n",
       "  'hba_lipinski': 3,\n",
       "  'hbd': 1,\n",
       "  'hbd_lipinski': 1,\n",
       "  'heavy_atoms': 44,\n",
       "  'molecular_species': 'BASE',\n",
       "  'mw_freebase': '620.64',\n",
       "  'mw_monoisotopic': '620.2638',\n",
       "  'num_alerts': 1,\n",
       "  'num_lipinski_ro5_violations': 1,\n",
       "  'num_ro5_violations': 2,\n",
       "  'psa': '32.34',\n",
       "  'qed_weighted': '0.26',\n",
       "  'ro3_pass': 'N',\n",
       "  'rtb': 8},\n",
       " 'molecule_structures': {'canonical_smiles': 'CC(C(=O)N[C@@]1(CC[C@H](CC1)N2CCC(CC2)c3ccc(F)cc3)c4ccccc4)c5cc(cc(c5)C(F)(F)F)C(F)(F)F',\n",
       "  'standard_inchi': 'InChI=1S/C34H35F7N2O/c1-22(25-19-27(33(36,37)38)21-28(20-25)34(39,40)41)31(44)42-32(26-5-3-2-4-6-26)15-11-30(12-16-32)43-17-13-24(14-18-43)23-7-9-29(35)10-8-23/h2-10,19-22,24,30H,11-18H2,1H3,(H,42,44)/t22?,30-,32-',\n",
       "  'standard_inchi_key': 'LKUBJXGOOGUQGP-MDYYLFQXSA-N'},\n",
       " 'molecule_synonyms': [],\n",
       " 'molecule_type': 'Small molecule',\n",
       " 'natural_product': '-1',\n",
       " 'oral': False,\n",
       " 'parenteral': False,\n",
       " 'polymer_flag': False,\n",
       " 'pref_name': None,\n",
       " 'prodrug': '-1',\n",
       " 'structure_type': 'MOL',\n",
       " 'therapeutic_flag': False,\n",
       " 'topical': False,\n",
       " 'usan_stem': None,\n",
       " 'usan_stem_definition': None,\n",
       " 'usan_substem': None,\n",
       " 'usan_year': None,\n",
       " 'withdrawn_country': None,\n",
       " 'withdrawn_flag': False,\n",
       " 'withdrawn_reason': None,\n",
       " 'withdrawn_year': None}"
      ]
     },
     "execution_count": 20,
     "metadata": {},
     "output_type": "execute_result"
    }
   ],
   "source": [
    "molecule.get('CHEMBL296397')"
   ]
  },
  {
   "cell_type": "code",
   "execution_count": 49,
   "metadata": {},
   "outputs": [
    {
     "data": {
      "text/plain": [
       "{'activity_comment': None,\n",
       " 'activity_id': 224312,\n",
       " 'assay_chembl_id': 'CHEMBL824627',\n",
       " 'assay_description': 'Compound was evaluated for the displacement of labelled MK-499 from the cloned channel expressed in HEK cells (Ikr channel)',\n",
       " 'assay_type': 'B',\n",
       " 'bao_endpoint': 'BAO_0000192',\n",
       " 'bao_format': 'BAO_0000219',\n",
       " 'canonical_smiles': 'CC(C)N1CCN(CC1)[C@@H]2CC[C@](CC2)(NC(=O)C(C)c3cc(cc(c3)C(F)(F)F)C(F)(F)F)c4ccccc4',\n",
       " 'data_validity_comment': None,\n",
       " 'document_chembl_id': 'CHEMBL1135170',\n",
       " 'document_journal': 'Bioorg. Med. Chem. Lett.',\n",
       " 'document_year': 2002,\n",
       " 'ligand_efficiency': {'bei': '10.39',\n",
       "  'le': '0.2',\n",
       "  'lle': '-0.92',\n",
       "  'sei': '16.64'},\n",
       " 'molecule_chembl_id': 'CHEMBL296979',\n",
       " 'pchembl_value': '5.92',\n",
       " 'potential_duplicate': False,\n",
       " 'published_relation': '=',\n",
       " 'published_type': 'Ki',\n",
       " 'published_units': 'nM',\n",
       " 'published_value': '1200',\n",
       " 'qudt_units': 'http://www.openphacts.org/units/Nanomolar',\n",
       " 'record_id': 82904,\n",
       " 'src_id': 1,\n",
       " 'standard_flag': True,\n",
       " 'standard_relation': '=',\n",
       " 'standard_type': 'Ki',\n",
       " 'standard_units': 'nM',\n",
       " 'standard_value': '1200',\n",
       " 'target_chembl_id': 'CHEMBL240',\n",
       " 'target_organism': 'Homo sapiens',\n",
       " 'target_pref_name': 'HERG',\n",
       " 'target_tax_id': '9606',\n",
       " 'uo_units': 'UO_0000065'}"
      ]
     },
     "execution_count": 49,
     "metadata": {},
     "output_type": "execute_result"
    }
   ],
   "source": [
    "ki[0]"
   ]
  },
  {
   "cell_type": "markdown",
   "metadata": {},
   "source": [
    "IC50[0]"
   ]
  },
  {
   "cell_type": "code",
   "execution_count": 52,
   "metadata": {
    "collapsed": true
   },
   "outputs": [],
   "source": [
    "target_chembl = 'CHEMBL2074'\n",
    "\n",
    "target = new_client.target\n",
    "activity = new_client.activity\n",
    "\n",
    "activity = activity.filter(target_chembl_id=target_chembl).filter(standard_type=\"IC50\")"
   ]
  },
  {
   "cell_type": "code",
   "execution_count": 53,
   "metadata": {},
   "outputs": [
    {
     "data": {
      "text/plain": [
       "{'activity_comment': None,\n",
       " 'activity_id': 306817,\n",
       " 'assay_chembl_id': 'CHEMBL649260',\n",
       " 'assay_description': 'Inhibitory activity measured against alpha-glucosidase of rice by colorimetric assay using the D-glucose oxidase-peroxidase method',\n",
       " 'assay_type': 'B',\n",
       " 'bao_endpoint': 'BAO_0000190',\n",
       " 'bao_format': 'BAO_0000357',\n",
       " 'canonical_smiles': 'OC[C@H]1N[C@H](CO)[C@@H](O)C(O)[C@@H]1O',\n",
       " 'data_validity_comment': 'Values for this activity type are unusually large/small, so may not be accurate',\n",
       " 'document_chembl_id': 'CHEMBL1131015',\n",
       " 'document_journal': 'J. Med. Chem.',\n",
       " 'document_year': 1998,\n",
       " 'ligand_efficiency': None,\n",
       " 'molecule_chembl_id': 'CHEMBL2114210',\n",
       " 'pchembl_value': None,\n",
       " 'potential_duplicate': False,\n",
       " 'published_relation': '=',\n",
       " 'published_type': 'IC50',\n",
       " 'published_units': 'uM',\n",
       " 'published_value': '110',\n",
       " 'qudt_units': 'http://www.openphacts.org/units/Nanomolar',\n",
       " 'record_id': 155749,\n",
       " 'src_id': 1,\n",
       " 'standard_flag': True,\n",
       " 'standard_relation': '=',\n",
       " 'standard_type': 'IC50',\n",
       " 'standard_units': 'nM',\n",
       " 'standard_value': '110000',\n",
       " 'target_chembl_id': 'CHEMBL2074',\n",
       " 'target_organism': 'Homo sapiens',\n",
       " 'target_pref_name': 'Maltase-glucoamylase',\n",
       " 'target_tax_id': '9606',\n",
       " 'uo_units': 'UO_0000065'}"
      ]
     },
     "execution_count": 53,
     "metadata": {},
     "output_type": "execute_result"
    }
   ],
   "source": [
    "activity[0]"
   ]
  },
  {
   "cell_type": "markdown",
   "metadata": {},
   "source": [
    "# 3D structure"
   ]
  },
  {
   "cell_type": "code",
   "execution_count": 186,
   "metadata": {},
   "outputs": [
    {
     "data": {
      "text/plain": [
       "0"
      ]
     },
     "execution_count": 186,
     "metadata": {},
     "output_type": "execute_result"
    }
   ],
   "source": [
    "get_3d('Fc1ccc(cc1)n2cc(C3CCN(CCN4CCNC4=O)CC3)c5cc(Cl)ccc25', 'ligand.mol')"
   ]
  },
  {
   "cell_type": "markdown",
   "metadata": {},
   "source": [
    "# Docking"
   ]
  },
  {
   "cell_type": "code",
   "execution_count": 53,
   "metadata": {
    "collapsed": true
   },
   "outputs": [],
   "source": [
    "from rdkit import Chem\n",
    "from rdkit.Chem import AllChem\n",
    "import subprocess\n",
    "import os"
   ]
  },
  {
   "cell_type": "code",
   "execution_count": 263,
   "metadata": {
    "collapsed": true
   },
   "outputs": [],
   "source": [
    "work_path = \"/data/home/viktor_petukhov/GoTo/DrugGenNN\"\n",
    "obabel_path = \"/data/home/viktor_petukhov/libs/openbabel/build/bin/obabel\"\n",
    "autodock_tools_path = '/data/home/viktor_petukhov/libs/mgltools_source_1.5.6/MGLPACKS/AutoDockTools-1.5.6/AutoDockTools/Utilities24/'\n",
    "python_path = '/data/home/viktor_petukhov/anaconda2/bin/python'\n",
    "vina_path = '/data/home/viktor_petukhov/libs/autodock_vina_1_1_2_linux_x86/bin/vina'\n",
    "\n",
    "def get_3d(smile, output_file):\n",
    "    \n",
    "    try:\n",
    "        mol = Chem.MolFromSmiles(smile)\n",
    "\n",
    "        mol = Chem.AddHs(mol)\n",
    "\n",
    "        AllChem.EmbedMolecule(mol)\n",
    "\n",
    "        AllChem.MMFFOptimizeMolecule(mol)\n",
    "\n",
    "        AllChem.MolToMolFile(mol, output_file)\n",
    "        \n",
    "        return 0\n",
    "    except:\n",
    "        \n",
    "        return -1\n",
    "\n",
    "def convert_to_mol2(path):\n",
    "    name = os.path.join(work_path, path)\n",
    "    new_name = '.'.join(name.split('.')[:-1])\n",
    "    return subprocess.call(\"{} {} -O {}.mol2\".format(obabel_path, name, new_name), shell=True)\n",
    "\n",
    "def prepare_ligand(path):\n",
    "    needed_script = os.path.join(autodock_tools_path, 'prepare_ligand4.py')\n",
    "    input_name = os.path.join(work_path, path)\n",
    "    output_name = os.path.join(work_path, path[:-5])\n",
    "    return subprocess.call('{} {} -l {} -o {}.pdbqt'.format(python_path, needed_script, \n",
    "                                              input_name, output_name\n",
    "                                              ), shell=True)\n",
    "\n",
    "def prepare_receptor(path):\n",
    "    needed_script = os.path.join(autodock_tools_path, 'prepare_receptor4.py')\n",
    "    input_name = os.path.join(work_path, path)\n",
    "    output_name = os.path.join(work_path, path[:-5])\n",
    "    return subprocess.call('{} {} -r {} -o {}.pdbqt'.format(python_path, needed_script, \n",
    "                                              input_name, output_name\n",
    "                                              ), shell=True)\n",
    "\n",
    "def get_action_space(target_path):\n",
    "    with open(target_path) as f:\n",
    "        data = f.readlines()\n",
    "\n",
    "    for i, line in enumerate(data):\n",
    "        if 'REMARK' not in line:\n",
    "            idx = i\n",
    "            break\n",
    "\n",
    "    lines = list(map(lambda x: x.split(), data[idx+1:]))\n",
    "\n",
    "    coors = []\n",
    "\n",
    "    for l in lines:\n",
    "        if 'ATOM' in l:\n",
    "            coors.append(list(map(float, l[6:9])))\n",
    "\n",
    "    coors = np.array(coors)\n",
    "\n",
    "    center = coors.mean(0)\n",
    "\n",
    "    size = []\n",
    "\n",
    "    for i in range(3):\n",
    "        size.append(max(np.abs([coors[:, i].min(), coors[:, i].max()])))\n",
    "\n",
    "    return center, size\n",
    "\n",
    "def dock(ligand_path, receptor_path, output_file=''):\n",
    "    \n",
    "    center, size = get_action_space(receptor_path)\n",
    "    \n",
    "    full_receptor_path = os.path.join(work_path, receptor_path)\n",
    "    full_ligand_path = os.path.join(work_path, ligand_path)\n",
    "    \n",
    "    if output_file == '':\n",
    "        output_file = 'tmp_out.pdbqt'\n",
    "        \n",
    "    return subprocess.call(' '.join(['{} --receptor {} --ligand {}',   \n",
    "                            '--center_x {} --center_y {} --center_z {}',  \n",
    "                            '--size_x {} --size_y {} --size_z {}', \n",
    "                            '--out {}']).format(vina_path, full_receptor_path, \n",
    "                                                full_ligand_path, *center, *size, output_file), shell=True)\n",
    "\n",
    "def get_affinity(ligand_out):\n",
    "    \n",
    "    with open(ligand_out) as f:\n",
    "        data = f.readlines()\n",
    "        \n",
    "    return float(data[1].split()[3])\n",
    "\n",
    "def pipeline(smile, receptor, output_file=''):\n",
    "    \n",
    "    output_files = ['tmp.mol', 'tmp.mol2', 'tmp.pdbqt', 'tmp_out.pdbqt']\n",
    "    \n",
    "    get_3d(smile, output_files[0])\n",
    "    \n",
    "    convert_to_mol2(output_files[0])\n",
    "    \n",
    "    prepare_ligand(output_files[1])\n",
    "    \n",
    "    dock(output_files[2], receptor, output_file)\n",
    "    \n",
    "    \n",
    "    if output_file == '':\n",
    "        idx = 4\n",
    "        output_file = output_files[3]\n",
    "    else:\n",
    "        idx = 3\n",
    "        \n",
    "    affinity = get_affinity(output_file)\n",
    "    \n",
    "    \n",
    "    for f in output_files[:idx]:\n",
    "        os.remove(os.path.join(work_path, f))\n",
    "    \n",
    "    return affinity"
   ]
  },
  {
   "cell_type": "code",
   "execution_count": 251,
   "metadata": {
    "collapsed": true
   },
   "outputs": [],
   "source": [
    "do_dock = joblib.load('do_dock')"
   ]
  },
  {
   "cell_type": "code",
   "execution_count": 264,
   "metadata": {},
   "outputs": [
    {
     "data": {
      "application/vnd.jupyter.widget-view+json": {
       "model_id": "df05374e29944022997f7300da9d901a"
      }
     },
     "metadata": {},
     "output_type": "display_data"
    },
    {
     "ename": "FileNotFoundError",
     "evalue": "[Errno 2] No such file or directory: 'predictions/true/425.pdbqt'",
     "output_type": "error",
     "traceback": [
      "\u001b[0;31m---------------------------------------------------------------------------\u001b[0m",
      "\u001b[0;31mFileNotFoundError\u001b[0m                         Traceback (most recent call last)",
      "\u001b[0;32m<ipython-input-264-d8f499c1f979>\u001b[0m in \u001b[0;36m<module>\u001b[0;34m()\u001b[0m\n\u001b[1;32m      2\u001b[0m \u001b[0;34m\u001b[0m\u001b[0m\n\u001b[1;32m      3\u001b[0m \u001b[0;32mfor\u001b[0m \u001b[0mi\u001b[0m\u001b[0;34m,\u001b[0m \u001b[0md\u001b[0m \u001b[0;32min\u001b[0m \u001b[0menumerate\u001b[0m\u001b[0;34m(\u001b[0m\u001b[0mtqdm_notebook\u001b[0m\u001b[0;34m(\u001b[0m\u001b[0mdo_dock\u001b[0m\u001b[0;34m)\u001b[0m\u001b[0;34m)\u001b[0m\u001b[0;34m:\u001b[0m\u001b[0;34m\u001b[0m\u001b[0m\n\u001b[0;32m----> 4\u001b[0;31m     \u001b[0maffinities\u001b[0m\u001b[0;34m.\u001b[0m\u001b[0mappend\u001b[0m\u001b[0;34m(\u001b[0m\u001b[0mpipeline\u001b[0m\u001b[0;34m(\u001b[0m\u001b[0md\u001b[0m\u001b[0;34m[\u001b[0m\u001b[0;34m'canonical_smiles'\u001b[0m\u001b[0;34m]\u001b[0m\u001b[0;34m,\u001b[0m \u001b[0;34m'receptor.pdbqt'\u001b[0m\u001b[0;34m,\u001b[0m \u001b[0;34m'predictions/true/'\u001b[0m\u001b[0;34m+\u001b[0m\u001b[0mstr\u001b[0m\u001b[0;34m(\u001b[0m\u001b[0mi\u001b[0m\u001b[0;34m)\u001b[0m\u001b[0;34m+\u001b[0m\u001b[0;34m'.pdbqt'\u001b[0m\u001b[0;34m)\u001b[0m\u001b[0;34m)\u001b[0m\u001b[0;34m\u001b[0m\u001b[0m\n\u001b[0m",
      "\u001b[0;32m<ipython-input-263-190b0ebc5bc1>\u001b[0m in \u001b[0;36mpipeline\u001b[0;34m(smile, receptor, output_file)\u001b[0m\n\u001b[1;32m    114\u001b[0m         \u001b[0midx\u001b[0m \u001b[0;34m=\u001b[0m \u001b[0;36m3\u001b[0m\u001b[0;34m\u001b[0m\u001b[0m\n\u001b[1;32m    115\u001b[0m \u001b[0;34m\u001b[0m\u001b[0m\n\u001b[0;32m--> 116\u001b[0;31m     \u001b[0maffinity\u001b[0m \u001b[0;34m=\u001b[0m \u001b[0mget_affinity\u001b[0m\u001b[0;34m(\u001b[0m\u001b[0moutput_file\u001b[0m\u001b[0;34m)\u001b[0m\u001b[0;34m\u001b[0m\u001b[0m\n\u001b[0m\u001b[1;32m    117\u001b[0m \u001b[0;34m\u001b[0m\u001b[0m\n\u001b[1;32m    118\u001b[0m \u001b[0;34m\u001b[0m\u001b[0m\n",
      "\u001b[0;32m<ipython-input-263-190b0ebc5bc1>\u001b[0m in \u001b[0;36mget_affinity\u001b[0;34m(ligand_out)\u001b[0m\n\u001b[1;32m     90\u001b[0m \u001b[0;32mdef\u001b[0m \u001b[0mget_affinity\u001b[0m\u001b[0;34m(\u001b[0m\u001b[0mligand_out\u001b[0m\u001b[0;34m)\u001b[0m\u001b[0;34m:\u001b[0m\u001b[0;34m\u001b[0m\u001b[0m\n\u001b[1;32m     91\u001b[0m \u001b[0;34m\u001b[0m\u001b[0m\n\u001b[0;32m---> 92\u001b[0;31m     \u001b[0;32mwith\u001b[0m \u001b[0mopen\u001b[0m\u001b[0;34m(\u001b[0m\u001b[0mligand_out\u001b[0m\u001b[0;34m)\u001b[0m \u001b[0;32mas\u001b[0m \u001b[0mf\u001b[0m\u001b[0;34m:\u001b[0m\u001b[0;34m\u001b[0m\u001b[0m\n\u001b[0m\u001b[1;32m     93\u001b[0m         \u001b[0mdata\u001b[0m \u001b[0;34m=\u001b[0m \u001b[0mf\u001b[0m\u001b[0;34m.\u001b[0m\u001b[0mreadlines\u001b[0m\u001b[0;34m(\u001b[0m\u001b[0;34m)\u001b[0m\u001b[0;34m\u001b[0m\u001b[0m\n\u001b[1;32m     94\u001b[0m \u001b[0;34m\u001b[0m\u001b[0m\n",
      "\u001b[0;31mFileNotFoundError\u001b[0m: [Errno 2] No such file or directory: 'predictions/true/425.pdbqt'"
     ]
    }
   ],
   "source": [
    "affinities = []\n",
    "\n",
    "for i, d in enumerate(tqdm_notebook(do_dock)):\n",
    "    affinities.append(pipeline(d['canonical_smiles'], 'receptor.pdbqt', 'predictions/true/'+str(i)+'.pdbqt'))"
   ]
  },
  {
   "cell_type": "code",
   "execution_count": 266,
   "metadata": {},
   "outputs": [
    {
     "data": {
      "text/plain": [
       "425"
      ]
     },
     "execution_count": 266,
     "metadata": {},
     "output_type": "execute_result"
    }
   ],
   "source": [
    "len(affinities)"
   ]
  },
  {
   "cell_type": "code",
   "execution_count": 291,
   "metadata": {},
   "outputs": [
    {
     "data": {
      "text/plain": [
       "<matplotlib.collections.PathCollection at 0x7f628a159358>"
      ]
     },
     "execution_count": 291,
     "metadata": {},
     "output_type": "execute_result"
    },
    {
     "data": {
      "image/png": "[encoded data removed]",
      "text/plain": [
       "<matplotlib.figure.Figure at 0x7f62975bc400>"
      ]
     },
     "metadata": {},
     "output_type": "display_data"
    }
   ],
   "source": [
    "true_affinities = [x['affinity'] for x in do_dock[:len(affinities)]]\n",
    "\n"
   ]
  },
  {
   "cell_type": "code",
   "execution_count": 293,
   "metadata": {},
   "outputs": [
    {
     "name": "stderr",
     "output_type": "stream",
     "text": [
      "/data/home/viktor_petukhov/local/anaconda3/lib/python3.5/site-packages/ipykernel/__main__.py:3: RuntimeWarning: invalid value encountered in log1p\n",
      "  app.launch_new_instance()\n"
     ]
    },
    {
     "data": {
      "text/plain": [
       "<matplotlib.collections.PathCollection at 0x7f6286f986d8>"
      ]
     },
     "execution_count": 293,
     "metadata": {},
     "output_type": "execute_result"
    },
    {
     "data": {
      "image/png": "[encoded data removed]",
      "text/plain": [
       "<matplotlib.figure.Figure at 0x7f628b8106d8>"
      ]
     },
     "metadata": {},
     "output_type": "display_data"
    }
   ],
   "source": [
    "plt.figure(figsize=[15, 10])\n",
    "\n",
    "plt.scatter(np.log1p(true_affinities), affinities)"
   ]
  }
 ],
 "metadata": {
  "kernelspec": {
   "display_name": "Python [conda root]",
   "language": "python",
   "name": "conda-root-py"
  },
  "language_info": {
   "codemirror_mode": {
    "name": "ipython",
    "version": 3
   },
   "file_extension": ".py",
   "mimetype": "text/x-python",
   "name": "python",
   "nbconvert_exporter": "python",
   "pygments_lexer": "ipython3",
   "version": "3.5.3"
  }
 },
 "nbformat": 4,
 "nbformat_minor": 2
}
