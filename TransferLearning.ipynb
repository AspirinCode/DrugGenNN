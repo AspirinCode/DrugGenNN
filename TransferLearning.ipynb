{
 "cells": [
  {
   "cell_type": "code",
   "execution_count": 57,
   "metadata": {},
   "outputs": [],
   "source": [
    "from CharRNN import CharRNN\n",
    "import pandas as pd\n",
    "import tensorflow as tf\n",
    "from utils import *\n",
    "from tqdm import trange\n",
    "from rdkit import Chem\n",
    "from rdkit.Chem import Draw\n",
    "from chembl_webresource_client.new_client import new_client"
   ]
  },
  {
   "cell_type": "code",
   "execution_count": 2,
   "metadata": {
    "collapsed": true
   },
   "outputs": [],
   "source": [
    "rnn_cell_size = 64\n",
    "num_layers = 1\n",
    "embedding_size = 32\n",
    "\n",
    "split_size = 30\n",
    "batchsize = 100\n",
    "epochs = 20\n",
    "stride=1\n",
    "\n",
    "num_features = 3"
   ]
  },
  {
   "cell_type": "code",
   "execution_count": 3,
   "metadata": {
    "collapsed": true
   },
   "outputs": [],
   "source": [
    "sess = tf.Session()"
   ]
  },
  {
   "cell_type": "code",
   "execution_count": 4,
   "metadata": {},
   "outputs": [
    {
     "name": "stdout",
     "output_type": "stream",
     "text": [
      "WARNING:tensorflow:<tensorflow.contrib.rnn.python.ops.core_rnn_cell_impl.LSTMCell object at 0x7f8f02f75908>: Using a concatenated state is slower and will soon be deprecated.  Use state_is_tuple=True.\n",
      "INFO:tensorflow:Restoring parameters from tmp/0_70.chkpt\n"
     ]
    }
   ],
   "source": [
    "model = CharRNN(sess, len(elems)+num_features, len(elems), embedding_size, \n",
    "                rnn_cell_size, num_layers, len(elems)-1, sess_chkpt='tmp/0_70.chkpt')"
   ]
  },
  {
   "cell_type": "code",
   "execution_count": 51,
   "metadata": {
    "scrolled": true
   },
   "outputs": [
    {
     "name": "stderr",
     "output_type": "stream",
     "text": [
      "\n",
      "  0%|          | 0/100 [00:00<?, ?it/s]\u001b[A\n",
      "  2%|▏         | 2/100 [00:00<00:05, 19.54it/s]\u001b[A\n",
      "  6%|▌         | 6/100 [00:00<00:04, 22.96it/s]\u001b[A\n",
      "  9%|▉         | 9/100 [00:00<00:03, 23.06it/s]\u001b[A\n",
      " 12%|█▏        | 12/100 [00:00<00:03, 23.76it/s]\u001b[A\n",
      " 16%|█▌        | 16/100 [00:00<00:03, 26.13it/s]\u001b[A\n",
      " 20%|██        | 20/100 [00:00<00:02, 28.20it/s]\u001b[A\n",
      " 24%|██▍       | 24/100 [00:00<00:02, 30.53it/s]\u001b[A\n",
      "  8%|▊         | 752/10000 [00:40<08:12, 18.79it/s]\n",
      "100%|██████████| 100/100 [00:03<00:00, 29.61it/s]\n"
     ]
    }
   ],
   "source": [
    "chems = []\n",
    "for i in trange(100):\n",
    "    chem = Chem.MolFromSmiles(generate_new(model, [0.1, 0.3, 0]))\n",
    "    if chem is not None:\n",
    "        chems.append(chem)"
   ]
  },
  {
   "cell_type": "code",
   "execution_count": 69,
   "metadata": {},
   "outputs": [],
   "source": [
    "def get_bondings(target_chembl):\n",
    "\n",
    "    target = new_client.target\n",
    "    activity = new_client.activity\n",
    "    molecule = new_client.molecule\n",
    "\n",
    "    activity = activity.filter(target_chembl_id=target_chembl).filter(standard_type=\"IC50\")\n",
    "\n",
    "    molecules = []\n",
    "\n",
    "    for act in tqdm_notebook(activity):\n",
    "        id = act['molecule_chembl_id']\n",
    "        molec = molecule.get(id)\n",
    "        \n",
    "        if (act['standard_value'] is not None and \n",
    "            molec['molecule_properties']['acd_logd'] is not None and\n",
    "            molec['molecule_properties']['acd_logp'] is not None):\n",
    "            \n",
    "            molecules.append({\n",
    "                'canonical_smiles': molec['molecule_structures']['canonical_smiles'],\n",
    "                'acd_logd': float(molec['molecule_properties']['acd_logd']),\n",
    "                'acd_logp': float(molec['molecule_properties']['acd_logp']),\n",
    "                'affinity': float(act['standard_value'])\n",
    "\n",
    "            })\n",
    "    return molecules"
   ]
  },
  {
   "cell_type": "code",
   "execution_count": 70,
   "metadata": {
    "collapsed": true
   },
   "outputs": [],
   "source": [
    "target_id = 'CHEMBL2074'"
   ]
  },
  {
   "cell_type": "code",
   "execution_count": 71,
   "metadata": {},
   "outputs": [
    {
     "data": {
      "application/vnd.jupyter.widget-view+json": {
       "model_id": "023037f71b9d419a918e58d9324f3f9d"
      }
     },
     "metadata": {},
     "output_type": "display_data"
    },
    {
     "name": "stdout",
     "output_type": "stream",
     "text": [
      "\n"
     ]
    }
   ],
   "source": [
    "bondings = get_bondings(target_id)"
   ]
  },
  {
   "cell_type": "code",
   "execution_count": 87,
   "metadata": {},
   "outputs": [
    {
     "data": {
      "text/plain": [
       "{'acd_logd': 2.95,\n",
       " 'acd_logp': 3.08,\n",
       " 'affinity': 100000.0,\n",
       " 'canonical_smiles': 'OC[C@H]1[C@@H](O)[C@H](O)[C@@H](O)CN1CCCCCOCc2ccccc2c3ccccc3'}"
      ]
     },
     "execution_count": 87,
     "metadata": {},
     "output_type": "execute_result"
    }
   ],
   "source": [
    "bondings[110]"
   ]
  }
 ],
 "metadata": {
  "kernelspec": {
   "display_name": "Python [conda root]",
   "language": "python",
   "name": "conda-root-py"
  },
  "language_info": {
   "codemirror_mode": {
    "name": "ipython",
    "version": 3
   },
   "file_extension": ".py",
   "mimetype": "text/x-python",
   "name": "python",
   "nbconvert_exporter": "python",
   "pygments_lexer": "ipython3",
   "version": "3.5.3"
  }
 },
 "nbformat": 4,
 "nbformat_minor": 2
}
